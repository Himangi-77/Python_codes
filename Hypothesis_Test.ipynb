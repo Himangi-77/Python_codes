{
  "nbformat": 4,
  "nbformat_minor": 0,
  "metadata": {
    "colab": {
      "provenance": [],
      "collapsed_sections": [],
      "authorship_tag": "ABX9TyO4syuy44ZqajN9Yu2X1jAD",
      "include_colab_link": true
    },
    "kernelspec": {
      "name": "python3",
      "display_name": "Python 3"
    },
    "language_info": {
      "name": "python"
    }
  },
  "cells": [
    {
      "cell_type": "markdown",
      "metadata": {
        "id": "view-in-github",
        "colab_type": "text"
      },
      "source": [
        "<a href=\"https://colab.research.google.com/github/Himangi-77/Python_codes/blob/main/Hypothesis_Test.ipynb\" target=\"_parent\"><img src=\"https://colab.research.google.com/assets/colab-badge.svg\" alt=\"Open In Colab\"/></a>"
      ]
    },
    {
      "cell_type": "markdown",
      "source": [],
      "metadata": {
        "id": "YA07S9M6Cera"
      }
    },
    {
      "cell_type": "markdown",
      "source": [
        "This report aims at understanding and applying Hypothesis testing methods such as\n",
        "\n",
        "Normal Distribution\n",
        "Student t Distribution\n",
        "ANOVA\n",
        "Some Machine learning tecniques such as\n",
        "\n",
        "Linear Regressor\n",
        "are also used to do predictive analysis"
      ],
      "metadata": {
        "id": "osQHDJtiCmA9"
      }
    },
    {
      "cell_type": "code",
      "source": [
        "import pandas as pd\n",
        "import matplotlib.pyplot as plt\n",
        "import seaborn as sns\n",
        "import statistics\n",
        "import scipy.stats as stats\n",
        "import math\n",
        "from sklearn.model_selection import train_test_split \n",
        "from sklearn.linear_model import LinearRegression\n",
        "from sklearn.metrics import mean_squared_error, mean_absolute_error"
      ],
      "metadata": {
        "id": "0Vu5A_q_Cm2B"
      },
      "execution_count": 78,
      "outputs": []
    },
    {
      "cell_type": "code",
      "source": [
        "data = pd.read_csv('/content/data.csv')\n",
        "data.head()"
      ],
      "metadata": {
        "colab": {
          "base_uri": "https://localhost:8080/",
          "height": 560
        },
        "id": "TlurmDOpIvhq",
        "outputId": "e75f5eb6-9773-48f4-f4c2-17346d54dd87"
      },
      "execution_count": 2,
      "outputs": [
        {
          "output_type": "stream",
          "name": "stderr",
          "text": [
            "/usr/local/lib/python3.7/dist-packages/IPython/core/interactiveshell.py:3326: DtypeWarning: Columns (4,24,28) have mixed types.Specify dtype option on import or set low_memory=False.\n",
            "  exec(code_obj, self.user_global_ns, self.user_ns)\n"
          ]
        },
        {
          "output_type": "execute_result",
          "data": {
            "text/plain": [
              "   Row ID  Year           Department Title  Payroll Department Record Number  \\\n",
              "0  111391  2014      Water And Power (DWP)                 NaN    1412316577   \n",
              "1   31732  2013              Police (LAPD)              4301.0     432728338   \n",
              "2   27697  2013              Police (LAPD)              4301.0      97182506   \n",
              "3   14136  2013        Harbor (Port of LA)              3201.0     950136941   \n",
              "4   91896  2014  Public Works - Sanitation              7024.0    3230003445   \n",
              "\n",
              "                     Job Class Title Employment Type Hourly or Event Rate  \\\n",
              "0  Commercial Service Representative       Full Time                  NaN   \n",
              "1                   Police Officer I       Full Time               $25.12   \n",
              "2                  Police Officer II       Full Time               $42.77   \n",
              "3            Senior Security Officer       Full Time               $28.75   \n",
              "4                Senior Clerk Typist       Full Time               $30.92   \n",
              "\n",
              "  Projected Annual Salary Q1 Payments  ...             MOU Title  \\\n",
              "0               $70386.48   $16129.89  ...                   NaN   \n",
              "1               $52450.56   $11331.00  ...  POLICE OFFICERS UNIT   \n",
              "2               $89303.76   $20036.32  ...  POLICE OFFICERS UNIT   \n",
              "3               $60028.96   $15793.88  ...      SUPV BLUE COLLAR   \n",
              "4               $64553.13   $14700.00  ...         CLERICAL UNIT   \n",
              "\n",
              "  FMS Department Job Class Pay Grade Average Health Cost Average Dental Cost  \\\n",
              "0             98      1230       NaN           $16842.08            $1282.61   \n",
              "1             70      2214         A           $11651.40             $898.08   \n",
              "2             70      2214         2           $11651.40             $898.08   \n",
              "3             42      3184         0           $10710.24             $405.24   \n",
              "4             82      1368         0           $11000.40             $409.68   \n",
              "\n",
              "  Average Basic Life Average Benefit Cost Benefits Plan  \\\n",
              "0              $0.00            $18124.69           DWP   \n",
              "1            $191.04            $12740.52        Police   \n",
              "2            $191.04            $12740.52        Police   \n",
              "3             $11.40            $11126.88          City   \n",
              "4             $11.40            $11421.48          City   \n",
              "\n",
              "                            Job Class Link  \n",
              "0  http://per.lacity.org/perspecs/1230.pdf  \n",
              "1  http://per.lacity.org/perspecs/2214.pdf  \n",
              "2  http://per.lacity.org/perspecs/2214.pdf  \n",
              "3  http://per.lacity.org/perspecs/3184.pdf  \n",
              "4  http://per.lacity.org/perspecs/1368.pdf  \n",
              "\n",
              "[5 rows x 35 columns]"
            ],
            "text/html": [
              "\n",
              "  <div id=\"df-04c5cf6f-e621-4e20-9bc4-0a9381d7be67\">\n",
              "    <div class=\"colab-df-container\">\n",
              "      <div>\n",
              "<style scoped>\n",
              "    .dataframe tbody tr th:only-of-type {\n",
              "        vertical-align: middle;\n",
              "    }\n",
              "\n",
              "    .dataframe tbody tr th {\n",
              "        vertical-align: top;\n",
              "    }\n",
              "\n",
              "    .dataframe thead th {\n",
              "        text-align: right;\n",
              "    }\n",
              "</style>\n",
              "<table border=\"1\" class=\"dataframe\">\n",
              "  <thead>\n",
              "    <tr style=\"text-align: right;\">\n",
              "      <th></th>\n",
              "      <th>Row ID</th>\n",
              "      <th>Year</th>\n",
              "      <th>Department Title</th>\n",
              "      <th>Payroll Department</th>\n",
              "      <th>Record Number</th>\n",
              "      <th>Job Class Title</th>\n",
              "      <th>Employment Type</th>\n",
              "      <th>Hourly or Event Rate</th>\n",
              "      <th>Projected Annual Salary</th>\n",
              "      <th>Q1 Payments</th>\n",
              "      <th>...</th>\n",
              "      <th>MOU Title</th>\n",
              "      <th>FMS Department</th>\n",
              "      <th>Job Class</th>\n",
              "      <th>Pay Grade</th>\n",
              "      <th>Average Health Cost</th>\n",
              "      <th>Average Dental Cost</th>\n",
              "      <th>Average Basic Life</th>\n",
              "      <th>Average Benefit Cost</th>\n",
              "      <th>Benefits Plan</th>\n",
              "      <th>Job Class Link</th>\n",
              "    </tr>\n",
              "  </thead>\n",
              "  <tbody>\n",
              "    <tr>\n",
              "      <th>0</th>\n",
              "      <td>111391</td>\n",
              "      <td>2014</td>\n",
              "      <td>Water And Power (DWP)</td>\n",
              "      <td>NaN</td>\n",
              "      <td>1412316577</td>\n",
              "      <td>Commercial Service Representative</td>\n",
              "      <td>Full Time</td>\n",
              "      <td>NaN</td>\n",
              "      <td>$70386.48</td>\n",
              "      <td>$16129.89</td>\n",
              "      <td>...</td>\n",
              "      <td>NaN</td>\n",
              "      <td>98</td>\n",
              "      <td>1230</td>\n",
              "      <td>NaN</td>\n",
              "      <td>$16842.08</td>\n",
              "      <td>$1282.61</td>\n",
              "      <td>$0.00</td>\n",
              "      <td>$18124.69</td>\n",
              "      <td>DWP</td>\n",
              "      <td>http://per.lacity.org/perspecs/1230.pdf</td>\n",
              "    </tr>\n",
              "    <tr>\n",
              "      <th>1</th>\n",
              "      <td>31732</td>\n",
              "      <td>2013</td>\n",
              "      <td>Police (LAPD)</td>\n",
              "      <td>4301.0</td>\n",
              "      <td>432728338</td>\n",
              "      <td>Police Officer I</td>\n",
              "      <td>Full Time</td>\n",
              "      <td>$25.12</td>\n",
              "      <td>$52450.56</td>\n",
              "      <td>$11331.00</td>\n",
              "      <td>...</td>\n",
              "      <td>POLICE OFFICERS UNIT</td>\n",
              "      <td>70</td>\n",
              "      <td>2214</td>\n",
              "      <td>A</td>\n",
              "      <td>$11651.40</td>\n",
              "      <td>$898.08</td>\n",
              "      <td>$191.04</td>\n",
              "      <td>$12740.52</td>\n",
              "      <td>Police</td>\n",
              "      <td>http://per.lacity.org/perspecs/2214.pdf</td>\n",
              "    </tr>\n",
              "    <tr>\n",
              "      <th>2</th>\n",
              "      <td>27697</td>\n",
              "      <td>2013</td>\n",
              "      <td>Police (LAPD)</td>\n",
              "      <td>4301.0</td>\n",
              "      <td>97182506</td>\n",
              "      <td>Police Officer II</td>\n",
              "      <td>Full Time</td>\n",
              "      <td>$42.77</td>\n",
              "      <td>$89303.76</td>\n",
              "      <td>$20036.32</td>\n",
              "      <td>...</td>\n",
              "      <td>POLICE OFFICERS UNIT</td>\n",
              "      <td>70</td>\n",
              "      <td>2214</td>\n",
              "      <td>2</td>\n",
              "      <td>$11651.40</td>\n",
              "      <td>$898.08</td>\n",
              "      <td>$191.04</td>\n",
              "      <td>$12740.52</td>\n",
              "      <td>Police</td>\n",
              "      <td>http://per.lacity.org/perspecs/2214.pdf</td>\n",
              "    </tr>\n",
              "    <tr>\n",
              "      <th>3</th>\n",
              "      <td>14136</td>\n",
              "      <td>2013</td>\n",
              "      <td>Harbor (Port of LA)</td>\n",
              "      <td>3201.0</td>\n",
              "      <td>950136941</td>\n",
              "      <td>Senior Security Officer</td>\n",
              "      <td>Full Time</td>\n",
              "      <td>$28.75</td>\n",
              "      <td>$60028.96</td>\n",
              "      <td>$15793.88</td>\n",
              "      <td>...</td>\n",
              "      <td>SUPV BLUE COLLAR</td>\n",
              "      <td>42</td>\n",
              "      <td>3184</td>\n",
              "      <td>0</td>\n",
              "      <td>$10710.24</td>\n",
              "      <td>$405.24</td>\n",
              "      <td>$11.40</td>\n",
              "      <td>$11126.88</td>\n",
              "      <td>City</td>\n",
              "      <td>http://per.lacity.org/perspecs/3184.pdf</td>\n",
              "    </tr>\n",
              "    <tr>\n",
              "      <th>4</th>\n",
              "      <td>91896</td>\n",
              "      <td>2014</td>\n",
              "      <td>Public Works - Sanitation</td>\n",
              "      <td>7024.0</td>\n",
              "      <td>3230003445</td>\n",
              "      <td>Senior Clerk Typist</td>\n",
              "      <td>Full Time</td>\n",
              "      <td>$30.92</td>\n",
              "      <td>$64553.13</td>\n",
              "      <td>$14700.00</td>\n",
              "      <td>...</td>\n",
              "      <td>CLERICAL UNIT</td>\n",
              "      <td>82</td>\n",
              "      <td>1368</td>\n",
              "      <td>0</td>\n",
              "      <td>$11000.40</td>\n",
              "      <td>$409.68</td>\n",
              "      <td>$11.40</td>\n",
              "      <td>$11421.48</td>\n",
              "      <td>City</td>\n",
              "      <td>http://per.lacity.org/perspecs/1368.pdf</td>\n",
              "    </tr>\n",
              "  </tbody>\n",
              "</table>\n",
              "<p>5 rows × 35 columns</p>\n",
              "</div>\n",
              "      <button class=\"colab-df-convert\" onclick=\"convertToInteractive('df-04c5cf6f-e621-4e20-9bc4-0a9381d7be67')\"\n",
              "              title=\"Convert this dataframe to an interactive table.\"\n",
              "              style=\"display:none;\">\n",
              "        \n",
              "  <svg xmlns=\"http://www.w3.org/2000/svg\" height=\"24px\"viewBox=\"0 0 24 24\"\n",
              "       width=\"24px\">\n",
              "    <path d=\"M0 0h24v24H0V0z\" fill=\"none\"/>\n",
              "    <path d=\"M18.56 5.44l.94 2.06.94-2.06 2.06-.94-2.06-.94-.94-2.06-.94 2.06-2.06.94zm-11 1L8.5 8.5l.94-2.06 2.06-.94-2.06-.94L8.5 2.5l-.94 2.06-2.06.94zm10 10l.94 2.06.94-2.06 2.06-.94-2.06-.94-.94-2.06-.94 2.06-2.06.94z\"/><path d=\"M17.41 7.96l-1.37-1.37c-.4-.4-.92-.59-1.43-.59-.52 0-1.04.2-1.43.59L10.3 9.45l-7.72 7.72c-.78.78-.78 2.05 0 2.83L4 21.41c.39.39.9.59 1.41.59.51 0 1.02-.2 1.41-.59l7.78-7.78 2.81-2.81c.8-.78.8-2.07 0-2.86zM5.41 20L4 18.59l7.72-7.72 1.47 1.35L5.41 20z\"/>\n",
              "  </svg>\n",
              "      </button>\n",
              "      \n",
              "  <style>\n",
              "    .colab-df-container {\n",
              "      display:flex;\n",
              "      flex-wrap:wrap;\n",
              "      gap: 12px;\n",
              "    }\n",
              "\n",
              "    .colab-df-convert {\n",
              "      background-color: #E8F0FE;\n",
              "      border: none;\n",
              "      border-radius: 50%;\n",
              "      cursor: pointer;\n",
              "      display: none;\n",
              "      fill: #1967D2;\n",
              "      height: 32px;\n",
              "      padding: 0 0 0 0;\n",
              "      width: 32px;\n",
              "    }\n",
              "\n",
              "    .colab-df-convert:hover {\n",
              "      background-color: #E2EBFA;\n",
              "      box-shadow: 0px 1px 2px rgba(60, 64, 67, 0.3), 0px 1px 3px 1px rgba(60, 64, 67, 0.15);\n",
              "      fill: #174EA6;\n",
              "    }\n",
              "\n",
              "    [theme=dark] .colab-df-convert {\n",
              "      background-color: #3B4455;\n",
              "      fill: #D2E3FC;\n",
              "    }\n",
              "\n",
              "    [theme=dark] .colab-df-convert:hover {\n",
              "      background-color: #434B5C;\n",
              "      box-shadow: 0px 1px 3px 1px rgba(0, 0, 0, 0.15);\n",
              "      filter: drop-shadow(0px 1px 2px rgba(0, 0, 0, 0.3));\n",
              "      fill: #FFFFFF;\n",
              "    }\n",
              "  </style>\n",
              "\n",
              "      <script>\n",
              "        const buttonEl =\n",
              "          document.querySelector('#df-04c5cf6f-e621-4e20-9bc4-0a9381d7be67 button.colab-df-convert');\n",
              "        buttonEl.style.display =\n",
              "          google.colab.kernel.accessAllowed ? 'block' : 'none';\n",
              "\n",
              "        async function convertToInteractive(key) {\n",
              "          const element = document.querySelector('#df-04c5cf6f-e621-4e20-9bc4-0a9381d7be67');\n",
              "          const dataTable =\n",
              "            await google.colab.kernel.invokeFunction('convertToInteractive',\n",
              "                                                     [key], {});\n",
              "          if (!dataTable) return;\n",
              "\n",
              "          const docLinkHtml = 'Like what you see? Visit the ' +\n",
              "            '<a target=\"_blank\" href=https://colab.research.google.com/notebooks/data_table.ipynb>data table notebook</a>'\n",
              "            + ' to learn more about interactive tables.';\n",
              "          element.innerHTML = '';\n",
              "          dataTable['output_type'] = 'display_data';\n",
              "          await google.colab.output.renderOutput(dataTable, element);\n",
              "          const docLink = document.createElement('div');\n",
              "          docLink.innerHTML = docLinkHtml;\n",
              "          element.appendChild(docLink);\n",
              "        }\n",
              "      </script>\n",
              "    </div>\n",
              "  </div>\n",
              "  "
            ]
          },
          "metadata": {},
          "execution_count": 2
        }
      ]
    },
    {
      "cell_type": "code",
      "source": [
        "data.info()"
      ],
      "metadata": {
        "colab": {
          "base_uri": "https://localhost:8080/"
        },
        "id": "d2Nq1PunI0_k",
        "outputId": "5bcb0690-56e6-41d8-83a6-63b312242b04"
      },
      "execution_count": 3,
      "outputs": [
        {
          "output_type": "stream",
          "name": "stdout",
          "text": [
            "<class 'pandas.core.frame.DataFrame'>\n",
            "RangeIndex: 285008 entries, 0 to 285007\n",
            "Data columns (total 35 columns):\n",
            " #   Column                        Non-Null Count   Dtype  \n",
            "---  ------                        --------------   -----  \n",
            " 0   Row ID                        285008 non-null  int64  \n",
            " 1   Year                          285008 non-null  int64  \n",
            " 2   Department Title              285008 non-null  object \n",
            " 3   Payroll Department            231463 non-null  float64\n",
            " 4   Record Number                 285008 non-null  object \n",
            " 5   Job Class Title               285008 non-null  object \n",
            " 6   Employment Type               285008 non-null  object \n",
            " 7   Hourly or Event Rate          263987 non-null  object \n",
            " 8   Projected Annual Salary       285008 non-null  object \n",
            " 9   Q1 Payments                   285008 non-null  object \n",
            " 10  Q2 Payments                   285008 non-null  object \n",
            " 11  Q3 Payments                   285008 non-null  object \n",
            " 12  Q4 Payments                   285008 non-null  object \n",
            " 13  Payments Over Base Pay        285008 non-null  object \n",
            " 14  % Over Base Pay               285008 non-null  object \n",
            " 15  Total Payments                285008 non-null  object \n",
            " 16  Base Pay                      285008 non-null  object \n",
            " 17  Permanent Bonus Pay           285008 non-null  object \n",
            " 18  Longevity Bonus Pay           285008 non-null  object \n",
            " 19  Temporary Bonus Pay           285008 non-null  object \n",
            " 20  Lump Sum Pay                  242744 non-null  object \n",
            " 21  Overtime Pay                  284574 non-null  object \n",
            " 22  Other Pay & Adjustments       285008 non-null  object \n",
            " 23  Other Pay (Payroll Explorer)  285008 non-null  object \n",
            " 24  MOU                           263987 non-null  object \n",
            " 25  MOU Title                     263987 non-null  object \n",
            " 26  FMS Department                285008 non-null  int64  \n",
            " 27  Job Class                     285008 non-null  int64  \n",
            " 28  Pay Grade                     187905 non-null  object \n",
            " 29  Average Health Cost           285008 non-null  object \n",
            " 30  Average Dental Cost           285008 non-null  object \n",
            " 31  Average Basic Life            285008 non-null  object \n",
            " 32  Average Benefit Cost          285008 non-null  object \n",
            " 33  Benefits Plan                 245926 non-null  object \n",
            " 34  Job Class Link                285008 non-null  object \n",
            "dtypes: float64(1), int64(4), object(30)\n",
            "memory usage: 76.1+ MB\n"
          ]
        }
      ]
    },
    {
      "cell_type": "code",
      "source": [
        "data.isnull().sum()"
      ],
      "metadata": {
        "colab": {
          "base_uri": "https://localhost:8080/"
        },
        "id": "c34bMe-fJClX",
        "outputId": "25dc9bbd-fe7f-4d28-a431-e49fc87e6bd2"
      },
      "execution_count": 4,
      "outputs": [
        {
          "output_type": "execute_result",
          "data": {
            "text/plain": [
              "Row ID                              0\n",
              "Year                                0\n",
              "Department Title                    0\n",
              "Payroll Department              53545\n",
              "Record Number                       0\n",
              "Job Class Title                     0\n",
              "Employment Type                     0\n",
              "Hourly or Event Rate            21021\n",
              "Projected Annual Salary             0\n",
              "Q1 Payments                         0\n",
              "Q2 Payments                         0\n",
              "Q3 Payments                         0\n",
              "Q4 Payments                         0\n",
              "Payments Over Base Pay              0\n",
              "% Over Base Pay                     0\n",
              "Total Payments                      0\n",
              "Base Pay                            0\n",
              "Permanent Bonus Pay                 0\n",
              "Longevity Bonus Pay                 0\n",
              "Temporary Bonus Pay                 0\n",
              "Lump Sum Pay                    42264\n",
              "Overtime Pay                      434\n",
              "Other Pay & Adjustments             0\n",
              "Other Pay (Payroll Explorer)        0\n",
              "MOU                             21021\n",
              "MOU Title                       21021\n",
              "FMS Department                      0\n",
              "Job Class                           0\n",
              "Pay Grade                       97103\n",
              "Average Health Cost                 0\n",
              "Average Dental Cost                 0\n",
              "Average Basic Life                  0\n",
              "Average Benefit Cost                0\n",
              "Benefits Plan                   39082\n",
              "Job Class Link                      0\n",
              "dtype: int64"
            ]
          },
          "metadata": {},
          "execution_count": 4
        }
      ]
    },
    {
      "cell_type": "code",
      "source": [
        "data = data.fillna(0)"
      ],
      "metadata": {
        "id": "czULSSPVJIbO"
      },
      "execution_count": 5,
      "outputs": []
    },
    {
      "cell_type": "code",
      "source": [
        "data = data.drop(['Record Number'], axis=1)"
      ],
      "metadata": {
        "id": "9Exlk1OxJmxF"
      },
      "execution_count": 6,
      "outputs": []
    },
    {
      "cell_type": "code",
      "source": [
        "pd.set_option('display.max_columns',None)"
      ],
      "metadata": {
        "id": "z4aMb8aCKAXn"
      },
      "execution_count": 7,
      "outputs": []
    },
    {
      "cell_type": "code",
      "source": [
        "data.head()"
      ],
      "metadata": {
        "colab": {
          "base_uri": "https://localhost:8080/",
          "height": 496
        },
        "id": "4QTwUnxiKIX6",
        "outputId": "07cead9f-9e59-4cfe-8dd8-a039cc5ec31c"
      },
      "execution_count": 8,
      "outputs": [
        {
          "output_type": "execute_result",
          "data": {
            "text/plain": [
              "   Row ID  Year           Department Title  Payroll Department  \\\n",
              "0  111391  2014      Water And Power (DWP)                 0.0   \n",
              "1   31732  2013              Police (LAPD)              4301.0   \n",
              "2   27697  2013              Police (LAPD)              4301.0   \n",
              "3   14136  2013        Harbor (Port of LA)              3201.0   \n",
              "4   91896  2014  Public Works - Sanitation              7024.0   \n",
              "\n",
              "                     Job Class Title Employment Type Hourly or Event Rate  \\\n",
              "0  Commercial Service Representative       Full Time                    0   \n",
              "1                   Police Officer I       Full Time               $25.12   \n",
              "2                  Police Officer II       Full Time               $42.77   \n",
              "3            Senior Security Officer       Full Time               $28.75   \n",
              "4                Senior Clerk Typist       Full Time               $30.92   \n",
              "\n",
              "  Projected Annual Salary Q1 Payments Q2 Payments Q3 Payments Q4 Payments  \\\n",
              "0               $70386.48   $16129.89   $17829.78   $17678.24   $22946.57   \n",
              "1               $52450.56   $11331.00   $13859.93   $11968.32   $14048.20   \n",
              "2               $89303.76   $20036.32   $23479.20   $21153.60   $24360.49   \n",
              "3               $60028.96   $15793.88   $18560.38   $16471.18   $21110.80   \n",
              "4               $64553.13   $14700.00   $17313.10   $15257.17   $17313.10   \n",
              "\n",
              "  Payments Over Base Pay % Over Base Pay Total Payments   Base Pay  \\\n",
              "0              $14273.91          23.67%      $74584.48  $60310.57   \n",
              "1               $1700.40           3.43%      $51207.45  $49507.05   \n",
              "2               $4120.20           4.85%      $89029.61  $84909.41   \n",
              "3              $14275.44          24.76%      $71936.24  $57660.80   \n",
              "4               $5191.62           8.74%      $64583.37  $59391.75   \n",
              "\n",
              "  Permanent Bonus Pay Longevity Bonus Pay Temporary Bonus Pay Lump Sum Pay  \\\n",
              "0               $0.00               $0.00               $0.00            0   \n",
              "1            $1269.83               $0.00             $239.20        $0.00   \n",
              "2            $1954.51               $0.00            $1519.00        $0.00   \n",
              "3               $0.00            $1585.72             $935.00        $0.00   \n",
              "4               $0.00            $4774.25               $0.00        $0.00   \n",
              "\n",
              "  Overtime Pay Other Pay & Adjustments Other Pay (Payroll Explorer)   MOU  \\\n",
              "0      $369.12               $13904.79                    $13904.79     0   \n",
              "1       $11.13                 $180.24                     $1689.27  24.0   \n",
              "2      $482.29                 $164.40                     $3637.91  24.0   \n",
              "3    $11504.72                 $250.00                     $2770.72  12.0   \n",
              "4      $417.37                   $0.00                     $4774.25   3.0   \n",
              "\n",
              "              MOU Title  FMS Department  Job Class Pay Grade  \\\n",
              "0                     0              98       1230         0   \n",
              "1  POLICE OFFICERS UNIT              70       2214         A   \n",
              "2  POLICE OFFICERS UNIT              70       2214         2   \n",
              "3      SUPV BLUE COLLAR              42       3184         0   \n",
              "4         CLERICAL UNIT              82       1368         0   \n",
              "\n",
              "  Average Health Cost Average Dental Cost Average Basic Life  \\\n",
              "0           $16842.08            $1282.61              $0.00   \n",
              "1           $11651.40             $898.08            $191.04   \n",
              "2           $11651.40             $898.08            $191.04   \n",
              "3           $10710.24             $405.24             $11.40   \n",
              "4           $11000.40             $409.68             $11.40   \n",
              "\n",
              "  Average Benefit Cost Benefits Plan                           Job Class Link  \n",
              "0            $18124.69           DWP  http://per.lacity.org/perspecs/1230.pdf  \n",
              "1            $12740.52        Police  http://per.lacity.org/perspecs/2214.pdf  \n",
              "2            $12740.52        Police  http://per.lacity.org/perspecs/2214.pdf  \n",
              "3            $11126.88          City  http://per.lacity.org/perspecs/3184.pdf  \n",
              "4            $11421.48          City  http://per.lacity.org/perspecs/1368.pdf  "
            ],
            "text/html": [
              "\n",
              "  <div id=\"df-f4ed34f4-5102-469d-82d5-f9c977dfb78a\">\n",
              "    <div class=\"colab-df-container\">\n",
              "      <div>\n",
              "<style scoped>\n",
              "    .dataframe tbody tr th:only-of-type {\n",
              "        vertical-align: middle;\n",
              "    }\n",
              "\n",
              "    .dataframe tbody tr th {\n",
              "        vertical-align: top;\n",
              "    }\n",
              "\n",
              "    .dataframe thead th {\n",
              "        text-align: right;\n",
              "    }\n",
              "</style>\n",
              "<table border=\"1\" class=\"dataframe\">\n",
              "  <thead>\n",
              "    <tr style=\"text-align: right;\">\n",
              "      <th></th>\n",
              "      <th>Row ID</th>\n",
              "      <th>Year</th>\n",
              "      <th>Department Title</th>\n",
              "      <th>Payroll Department</th>\n",
              "      <th>Job Class Title</th>\n",
              "      <th>Employment Type</th>\n",
              "      <th>Hourly or Event Rate</th>\n",
              "      <th>Projected Annual Salary</th>\n",
              "      <th>Q1 Payments</th>\n",
              "      <th>Q2 Payments</th>\n",
              "      <th>Q3 Payments</th>\n",
              "      <th>Q4 Payments</th>\n",
              "      <th>Payments Over Base Pay</th>\n",
              "      <th>% Over Base Pay</th>\n",
              "      <th>Total Payments</th>\n",
              "      <th>Base Pay</th>\n",
              "      <th>Permanent Bonus Pay</th>\n",
              "      <th>Longevity Bonus Pay</th>\n",
              "      <th>Temporary Bonus Pay</th>\n",
              "      <th>Lump Sum Pay</th>\n",
              "      <th>Overtime Pay</th>\n",
              "      <th>Other Pay &amp; Adjustments</th>\n",
              "      <th>Other Pay (Payroll Explorer)</th>\n",
              "      <th>MOU</th>\n",
              "      <th>MOU Title</th>\n",
              "      <th>FMS Department</th>\n",
              "      <th>Job Class</th>\n",
              "      <th>Pay Grade</th>\n",
              "      <th>Average Health Cost</th>\n",
              "      <th>Average Dental Cost</th>\n",
              "      <th>Average Basic Life</th>\n",
              "      <th>Average Benefit Cost</th>\n",
              "      <th>Benefits Plan</th>\n",
              "      <th>Job Class Link</th>\n",
              "    </tr>\n",
              "  </thead>\n",
              "  <tbody>\n",
              "    <tr>\n",
              "      <th>0</th>\n",
              "      <td>111391</td>\n",
              "      <td>2014</td>\n",
              "      <td>Water And Power (DWP)</td>\n",
              "      <td>0.0</td>\n",
              "      <td>Commercial Service Representative</td>\n",
              "      <td>Full Time</td>\n",
              "      <td>0</td>\n",
              "      <td>$70386.48</td>\n",
              "      <td>$16129.89</td>\n",
              "      <td>$17829.78</td>\n",
              "      <td>$17678.24</td>\n",
              "      <td>$22946.57</td>\n",
              "      <td>$14273.91</td>\n",
              "      <td>23.67%</td>\n",
              "      <td>$74584.48</td>\n",
              "      <td>$60310.57</td>\n",
              "      <td>$0.00</td>\n",
              "      <td>$0.00</td>\n",
              "      <td>$0.00</td>\n",
              "      <td>0</td>\n",
              "      <td>$369.12</td>\n",
              "      <td>$13904.79</td>\n",
              "      <td>$13904.79</td>\n",
              "      <td>0</td>\n",
              "      <td>0</td>\n",
              "      <td>98</td>\n",
              "      <td>1230</td>\n",
              "      <td>0</td>\n",
              "      <td>$16842.08</td>\n",
              "      <td>$1282.61</td>\n",
              "      <td>$0.00</td>\n",
              "      <td>$18124.69</td>\n",
              "      <td>DWP</td>\n",
              "      <td>http://per.lacity.org/perspecs/1230.pdf</td>\n",
              "    </tr>\n",
              "    <tr>\n",
              "      <th>1</th>\n",
              "      <td>31732</td>\n",
              "      <td>2013</td>\n",
              "      <td>Police (LAPD)</td>\n",
              "      <td>4301.0</td>\n",
              "      <td>Police Officer I</td>\n",
              "      <td>Full Time</td>\n",
              "      <td>$25.12</td>\n",
              "      <td>$52450.56</td>\n",
              "      <td>$11331.00</td>\n",
              "      <td>$13859.93</td>\n",
              "      <td>$11968.32</td>\n",
              "      <td>$14048.20</td>\n",
              "      <td>$1700.40</td>\n",
              "      <td>3.43%</td>\n",
              "      <td>$51207.45</td>\n",
              "      <td>$49507.05</td>\n",
              "      <td>$1269.83</td>\n",
              "      <td>$0.00</td>\n",
              "      <td>$239.20</td>\n",
              "      <td>$0.00</td>\n",
              "      <td>$11.13</td>\n",
              "      <td>$180.24</td>\n",
              "      <td>$1689.27</td>\n",
              "      <td>24.0</td>\n",
              "      <td>POLICE OFFICERS UNIT</td>\n",
              "      <td>70</td>\n",
              "      <td>2214</td>\n",
              "      <td>A</td>\n",
              "      <td>$11651.40</td>\n",
              "      <td>$898.08</td>\n",
              "      <td>$191.04</td>\n",
              "      <td>$12740.52</td>\n",
              "      <td>Police</td>\n",
              "      <td>http://per.lacity.org/perspecs/2214.pdf</td>\n",
              "    </tr>\n",
              "    <tr>\n",
              "      <th>2</th>\n",
              "      <td>27697</td>\n",
              "      <td>2013</td>\n",
              "      <td>Police (LAPD)</td>\n",
              "      <td>4301.0</td>\n",
              "      <td>Police Officer II</td>\n",
              "      <td>Full Time</td>\n",
              "      <td>$42.77</td>\n",
              "      <td>$89303.76</td>\n",
              "      <td>$20036.32</td>\n",
              "      <td>$23479.20</td>\n",
              "      <td>$21153.60</td>\n",
              "      <td>$24360.49</td>\n",
              "      <td>$4120.20</td>\n",
              "      <td>4.85%</td>\n",
              "      <td>$89029.61</td>\n",
              "      <td>$84909.41</td>\n",
              "      <td>$1954.51</td>\n",
              "      <td>$0.00</td>\n",
              "      <td>$1519.00</td>\n",
              "      <td>$0.00</td>\n",
              "      <td>$482.29</td>\n",
              "      <td>$164.40</td>\n",
              "      <td>$3637.91</td>\n",
              "      <td>24.0</td>\n",
              "      <td>POLICE OFFICERS UNIT</td>\n",
              "      <td>70</td>\n",
              "      <td>2214</td>\n",
              "      <td>2</td>\n",
              "      <td>$11651.40</td>\n",
              "      <td>$898.08</td>\n",
              "      <td>$191.04</td>\n",
              "      <td>$12740.52</td>\n",
              "      <td>Police</td>\n",
              "      <td>http://per.lacity.org/perspecs/2214.pdf</td>\n",
              "    </tr>\n",
              "    <tr>\n",
              "      <th>3</th>\n",
              "      <td>14136</td>\n",
              "      <td>2013</td>\n",
              "      <td>Harbor (Port of LA)</td>\n",
              "      <td>3201.0</td>\n",
              "      <td>Senior Security Officer</td>\n",
              "      <td>Full Time</td>\n",
              "      <td>$28.75</td>\n",
              "      <td>$60028.96</td>\n",
              "      <td>$15793.88</td>\n",
              "      <td>$18560.38</td>\n",
              "      <td>$16471.18</td>\n",
              "      <td>$21110.80</td>\n",
              "      <td>$14275.44</td>\n",
              "      <td>24.76%</td>\n",
              "      <td>$71936.24</td>\n",
              "      <td>$57660.80</td>\n",
              "      <td>$0.00</td>\n",
              "      <td>$1585.72</td>\n",
              "      <td>$935.00</td>\n",
              "      <td>$0.00</td>\n",
              "      <td>$11504.72</td>\n",
              "      <td>$250.00</td>\n",
              "      <td>$2770.72</td>\n",
              "      <td>12.0</td>\n",
              "      <td>SUPV BLUE COLLAR</td>\n",
              "      <td>42</td>\n",
              "      <td>3184</td>\n",
              "      <td>0</td>\n",
              "      <td>$10710.24</td>\n",
              "      <td>$405.24</td>\n",
              "      <td>$11.40</td>\n",
              "      <td>$11126.88</td>\n",
              "      <td>City</td>\n",
              "      <td>http://per.lacity.org/perspecs/3184.pdf</td>\n",
              "    </tr>\n",
              "    <tr>\n",
              "      <th>4</th>\n",
              "      <td>91896</td>\n",
              "      <td>2014</td>\n",
              "      <td>Public Works - Sanitation</td>\n",
              "      <td>7024.0</td>\n",
              "      <td>Senior Clerk Typist</td>\n",
              "      <td>Full Time</td>\n",
              "      <td>$30.92</td>\n",
              "      <td>$64553.13</td>\n",
              "      <td>$14700.00</td>\n",
              "      <td>$17313.10</td>\n",
              "      <td>$15257.17</td>\n",
              "      <td>$17313.10</td>\n",
              "      <td>$5191.62</td>\n",
              "      <td>8.74%</td>\n",
              "      <td>$64583.37</td>\n",
              "      <td>$59391.75</td>\n",
              "      <td>$0.00</td>\n",
              "      <td>$4774.25</td>\n",
              "      <td>$0.00</td>\n",
              "      <td>$0.00</td>\n",
              "      <td>$417.37</td>\n",
              "      <td>$0.00</td>\n",
              "      <td>$4774.25</td>\n",
              "      <td>3.0</td>\n",
              "      <td>CLERICAL UNIT</td>\n",
              "      <td>82</td>\n",
              "      <td>1368</td>\n",
              "      <td>0</td>\n",
              "      <td>$11000.40</td>\n",
              "      <td>$409.68</td>\n",
              "      <td>$11.40</td>\n",
              "      <td>$11421.48</td>\n",
              "      <td>City</td>\n",
              "      <td>http://per.lacity.org/perspecs/1368.pdf</td>\n",
              "    </tr>\n",
              "  </tbody>\n",
              "</table>\n",
              "</div>\n",
              "      <button class=\"colab-df-convert\" onclick=\"convertToInteractive('df-f4ed34f4-5102-469d-82d5-f9c977dfb78a')\"\n",
              "              title=\"Convert this dataframe to an interactive table.\"\n",
              "              style=\"display:none;\">\n",
              "        \n",
              "  <svg xmlns=\"http://www.w3.org/2000/svg\" height=\"24px\"viewBox=\"0 0 24 24\"\n",
              "       width=\"24px\">\n",
              "    <path d=\"M0 0h24v24H0V0z\" fill=\"none\"/>\n",
              "    <path d=\"M18.56 5.44l.94 2.06.94-2.06 2.06-.94-2.06-.94-.94-2.06-.94 2.06-2.06.94zm-11 1L8.5 8.5l.94-2.06 2.06-.94-2.06-.94L8.5 2.5l-.94 2.06-2.06.94zm10 10l.94 2.06.94-2.06 2.06-.94-2.06-.94-.94-2.06-.94 2.06-2.06.94z\"/><path d=\"M17.41 7.96l-1.37-1.37c-.4-.4-.92-.59-1.43-.59-.52 0-1.04.2-1.43.59L10.3 9.45l-7.72 7.72c-.78.78-.78 2.05 0 2.83L4 21.41c.39.39.9.59 1.41.59.51 0 1.02-.2 1.41-.59l7.78-7.78 2.81-2.81c.8-.78.8-2.07 0-2.86zM5.41 20L4 18.59l7.72-7.72 1.47 1.35L5.41 20z\"/>\n",
              "  </svg>\n",
              "      </button>\n",
              "      \n",
              "  <style>\n",
              "    .colab-df-container {\n",
              "      display:flex;\n",
              "      flex-wrap:wrap;\n",
              "      gap: 12px;\n",
              "    }\n",
              "\n",
              "    .colab-df-convert {\n",
              "      background-color: #E8F0FE;\n",
              "      border: none;\n",
              "      border-radius: 50%;\n",
              "      cursor: pointer;\n",
              "      display: none;\n",
              "      fill: #1967D2;\n",
              "      height: 32px;\n",
              "      padding: 0 0 0 0;\n",
              "      width: 32px;\n",
              "    }\n",
              "\n",
              "    .colab-df-convert:hover {\n",
              "      background-color: #E2EBFA;\n",
              "      box-shadow: 0px 1px 2px rgba(60, 64, 67, 0.3), 0px 1px 3px 1px rgba(60, 64, 67, 0.15);\n",
              "      fill: #174EA6;\n",
              "    }\n",
              "\n",
              "    [theme=dark] .colab-df-convert {\n",
              "      background-color: #3B4455;\n",
              "      fill: #D2E3FC;\n",
              "    }\n",
              "\n",
              "    [theme=dark] .colab-df-convert:hover {\n",
              "      background-color: #434B5C;\n",
              "      box-shadow: 0px 1px 3px 1px rgba(0, 0, 0, 0.15);\n",
              "      filter: drop-shadow(0px 1px 2px rgba(0, 0, 0, 0.3));\n",
              "      fill: #FFFFFF;\n",
              "    }\n",
              "  </style>\n",
              "\n",
              "      <script>\n",
              "        const buttonEl =\n",
              "          document.querySelector('#df-f4ed34f4-5102-469d-82d5-f9c977dfb78a button.colab-df-convert');\n",
              "        buttonEl.style.display =\n",
              "          google.colab.kernel.accessAllowed ? 'block' : 'none';\n",
              "\n",
              "        async function convertToInteractive(key) {\n",
              "          const element = document.querySelector('#df-f4ed34f4-5102-469d-82d5-f9c977dfb78a');\n",
              "          const dataTable =\n",
              "            await google.colab.kernel.invokeFunction('convertToInteractive',\n",
              "                                                     [key], {});\n",
              "          if (!dataTable) return;\n",
              "\n",
              "          const docLinkHtml = 'Like what you see? Visit the ' +\n",
              "            '<a target=\"_blank\" href=https://colab.research.google.com/notebooks/data_table.ipynb>data table notebook</a>'\n",
              "            + ' to learn more about interactive tables.';\n",
              "          element.innerHTML = '';\n",
              "          dataTable['output_type'] = 'display_data';\n",
              "          await google.colab.output.renderOutput(dataTable, element);\n",
              "          const docLink = document.createElement('div');\n",
              "          docLink.innerHTML = docLinkHtml;\n",
              "          element.appendChild(docLink);\n",
              "        }\n",
              "      </script>\n",
              "    </div>\n",
              "  </div>\n",
              "  "
            ]
          },
          "metadata": {},
          "execution_count": 8
        }
      ]
    },
    {
      "cell_type": "code",
      "source": [
        "sns.set_style('darkgrid')\n",
        "sns.pairplot(data)"
      ],
      "metadata": {
        "colab": {
          "base_uri": "https://localhost:8080/",
          "height": 891
        },
        "id": "nDFXpl5pLJu5",
        "outputId": "add84b39-7b80-47a9-f49f-da158cd22c8a"
      },
      "execution_count": 9,
      "outputs": [
        {
          "output_type": "execute_result",
          "data": {
            "text/plain": [
              "<seaborn.axisgrid.PairGrid at 0x7f10fe7fe950>"
            ]
          },
          "metadata": {},
          "execution_count": 9
        },
        {
          "output_type": "display_data",
          "data": {
            "text/plain": [
              "<Figure size 900x900 with 30 Axes>"
            ],
            "image/png": "[encoded data removed]"
          },
          "metadata": {}
        }
      ]
    },
    {
      "cell_type": "code",
      "source": [
        "data['Employment Type'].value_counts()"
      ],
      "metadata": {
        "colab": {
          "base_uri": "https://localhost:8080/"
        },
        "id": "dUCbZBpGOZmI",
        "outputId": "51d99a72-0a92-4b3f-e319-8dddb4640ac4"
      },
      "execution_count": 10,
      "outputs": [
        {
          "output_type": "execute_result",
          "data": {
            "text/plain": [
              "Full Time    236553\n",
              "Part Time     47538\n",
              "Per Event       917\n",
              "Name: Employment Type, dtype: int64"
            ]
          },
          "metadata": {},
          "execution_count": 10
        }
      ]
    },
    {
      "cell_type": "code",
      "source": [
        "data['MOU Title'].value_counts()"
      ],
      "metadata": {
        "colab": {
          "base_uri": "https://localhost:8080/"
        },
        "id": "iGEboMmtSG3h",
        "outputId": "5e12142d-b8a3-48dd-d4d4-09244590dbe3"
      },
      "execution_count": 11,
      "outputs": [
        {
          "output_type": "execute_result",
          "data": {
            "text/plain": [
              "0                                  21021\n",
              "POLICE OFFICERS UNIT               20372\n",
              "CLERICAL UNIT                      14218\n",
              "Clerical                           11964\n",
              "POLICE OFFICERS, LTS. AND BELOW    10284\n",
              "                                   ...  \n",
              "MANAGEMENT ATTORNEYS                  13\n",
              "PORT PILOTS                           13\n",
              "MANAGEMENT PEACE OFFICER              13\n",
              "Airport Police Command Officers       12\n",
              "AIRPORT POLICE COMMAND OFFICERS        6\n",
              "Name: MOU Title, Length: 151, dtype: int64"
            ]
          },
          "metadata": {},
          "execution_count": 11
        }
      ]
    },
    {
      "cell_type": "code",
      "source": [
        "data['Benefits Plan'].value_counts()"
      ],
      "metadata": {
        "colab": {
          "base_uri": "https://localhost:8080/"
        },
        "id": "mxUsWQjVSPH5",
        "outputId": "5d27798b-3c70-4229-bc9f-35501ee77d94"
      },
      "execution_count": 12,
      "outputs": [
        {
          "output_type": "execute_result",
          "data": {
            "text/plain": [
              "City      125266\n",
              "DWP        53030\n",
              "Police     51069\n",
              "0          39082\n",
              "Fire       16561\n",
              "Name: Benefits Plan, dtype: int64"
            ]
          },
          "metadata": {},
          "execution_count": 12
        }
      ]
    },
    {
      "cell_type": "code",
      "source": [
        "for i in ['Projected Annual Salary','Q1 Payments','Q2 Payments','Q3 Payments','Q4 Payments','Payments Over Base Pay',\n",
        "          'Total Payments','Base Pay','Permanent Bonus Pay','Longevity Bonus Pay','Temporary Bonus Pay','Overtime Pay',\n",
        "          'Other Pay & Adjustments','Other Pay (Payroll Explorer)','Average Health Cost','Average Dental Cost',\n",
        "          'Average Basic Life','Average Benefit Cost']:\n",
        "    data[i] = data[i].str.replace('$','')"
      ],
      "metadata": {
        "colab": {
          "base_uri": "https://localhost:8080/"
        },
        "id": "toUGgnwkTd4H",
        "outputId": "b1b4eaee-3f20-4242-8732-7075e966d03d"
      },
      "execution_count": 13,
      "outputs": [
        {
          "output_type": "stream",
          "name": "stderr",
          "text": [
            "/usr/local/lib/python3.7/dist-packages/ipykernel_launcher.py:5: FutureWarning: The default value of regex will change from True to False in a future version. In addition, single character regular expressions will *not* be treated as literal strings when regex=True.\n",
            "  \"\"\"\n"
          ]
        }
      ]
    },
    {
      "cell_type": "code",
      "source": [
        "data.head()"
      ],
      "metadata": {
        "colab": {
          "base_uri": "https://localhost:8080/",
          "height": 496
        },
        "id": "91j97AYZXfFc",
        "outputId": "df46c0b8-bfd3-4a8c-8984-6b560db8a403"
      },
      "execution_count": 14,
      "outputs": [
        {
          "output_type": "execute_result",
          "data": {
            "text/plain": [
              "   Row ID  Year           Department Title  Payroll Department  \\\n",
              "0  111391  2014      Water And Power (DWP)                 0.0   \n",
              "1   31732  2013              Police (LAPD)              4301.0   \n",
              "2   27697  2013              Police (LAPD)              4301.0   \n",
              "3   14136  2013        Harbor (Port of LA)              3201.0   \n",
              "4   91896  2014  Public Works - Sanitation              7024.0   \n",
              "\n",
              "                     Job Class Title Employment Type Hourly or Event Rate  \\\n",
              "0  Commercial Service Representative       Full Time                    0   \n",
              "1                   Police Officer I       Full Time               $25.12   \n",
              "2                  Police Officer II       Full Time               $42.77   \n",
              "3            Senior Security Officer       Full Time               $28.75   \n",
              "4                Senior Clerk Typist       Full Time               $30.92   \n",
              "\n",
              "  Projected Annual Salary Q1 Payments Q2 Payments Q3 Payments Q4 Payments  \\\n",
              "0                70386.48    16129.89    17829.78    17678.24    22946.57   \n",
              "1                52450.56    11331.00    13859.93    11968.32    14048.20   \n",
              "2                89303.76    20036.32    23479.20    21153.60    24360.49   \n",
              "3                60028.96    15793.88    18560.38    16471.18    21110.80   \n",
              "4                64553.13    14700.00    17313.10    15257.17    17313.10   \n",
              "\n",
              "  Payments Over Base Pay % Over Base Pay Total Payments  Base Pay  \\\n",
              "0               14273.91          23.67%       74584.48  60310.57   \n",
              "1                1700.40           3.43%       51207.45  49507.05   \n",
              "2                4120.20           4.85%       89029.61  84909.41   \n",
              "3               14275.44          24.76%       71936.24  57660.80   \n",
              "4                5191.62           8.74%       64583.37  59391.75   \n",
              "\n",
              "  Permanent Bonus Pay Longevity Bonus Pay Temporary Bonus Pay Lump Sum Pay  \\\n",
              "0                0.00                0.00                0.00            0   \n",
              "1             1269.83                0.00              239.20        $0.00   \n",
              "2             1954.51                0.00             1519.00        $0.00   \n",
              "3                0.00             1585.72              935.00        $0.00   \n",
              "4                0.00             4774.25                0.00        $0.00   \n",
              "\n",
              "  Overtime Pay Other Pay & Adjustments Other Pay (Payroll Explorer)   MOU  \\\n",
              "0       369.12                13904.79                     13904.79     0   \n",
              "1        11.13                  180.24                      1689.27  24.0   \n",
              "2       482.29                  164.40                      3637.91  24.0   \n",
              "3     11504.72                  250.00                      2770.72  12.0   \n",
              "4       417.37                    0.00                      4774.25   3.0   \n",
              "\n",
              "              MOU Title  FMS Department  Job Class Pay Grade  \\\n",
              "0                     0              98       1230         0   \n",
              "1  POLICE OFFICERS UNIT              70       2214         A   \n",
              "2  POLICE OFFICERS UNIT              70       2214         2   \n",
              "3      SUPV BLUE COLLAR              42       3184         0   \n",
              "4         CLERICAL UNIT              82       1368         0   \n",
              "\n",
              "  Average Health Cost Average Dental Cost Average Basic Life  \\\n",
              "0            16842.08             1282.61               0.00   \n",
              "1            11651.40              898.08             191.04   \n",
              "2            11651.40              898.08             191.04   \n",
              "3            10710.24              405.24              11.40   \n",
              "4            11000.40              409.68              11.40   \n",
              "\n",
              "  Average Benefit Cost Benefits Plan                           Job Class Link  \n",
              "0             18124.69           DWP  http://per.lacity.org/perspecs/1230.pdf  \n",
              "1             12740.52        Police  http://per.lacity.org/perspecs/2214.pdf  \n",
              "2             12740.52        Police  http://per.lacity.org/perspecs/2214.pdf  \n",
              "3             11126.88          City  http://per.lacity.org/perspecs/3184.pdf  \n",
              "4             11421.48          City  http://per.lacity.org/perspecs/1368.pdf  "
            ],
            "text/html": [
              "\n",
              "  <div id=\"df-77a51e90-1b6b-4af1-a63d-1f437a0afd62\">\n",
              "    <div class=\"colab-df-container\">\n",
              "      <div>\n",
              "<style scoped>\n",
              "    .dataframe tbody tr th:only-of-type {\n",
              "        vertical-align: middle;\n",
              "    }\n",
              "\n",
              "    .dataframe tbody tr th {\n",
              "        vertical-align: top;\n",
              "    }\n",
              "\n",
              "    .dataframe thead th {\n",
              "        text-align: right;\n",
              "    }\n",
              "</style>\n",
              "<table border=\"1\" class=\"dataframe\">\n",
              "  <thead>\n",
              "    <tr style=\"text-align: right;\">\n",
              "      <th></th>\n",
              "      <th>Row ID</th>\n",
              "      <th>Year</th>\n",
              "      <th>Department Title</th>\n",
              "      <th>Payroll Department</th>\n",
              "      <th>Job Class Title</th>\n",
              "      <th>Employment Type</th>\n",
              "      <th>Hourly or Event Rate</th>\n",
              "      <th>Projected Annual Salary</th>\n",
              "      <th>Q1 Payments</th>\n",
              "      <th>Q2 Payments</th>\n",
              "      <th>Q3 Payments</th>\n",
              "      <th>Q4 Payments</th>\n",
              "      <th>Payments Over Base Pay</th>\n",
              "      <th>% Over Base Pay</th>\n",
              "      <th>Total Payments</th>\n",
              "      <th>Base Pay</th>\n",
              "      <th>Permanent Bonus Pay</th>\n",
              "      <th>Longevity Bonus Pay</th>\n",
              "      <th>Temporary Bonus Pay</th>\n",
              "      <th>Lump Sum Pay</th>\n",
              "      <th>Overtime Pay</th>\n",
              "      <th>Other Pay &amp; Adjustments</th>\n",
              "      <th>Other Pay (Payroll Explorer)</th>\n",
              "      <th>MOU</th>\n",
              "      <th>MOU Title</th>\n",
              "      <th>FMS Department</th>\n",
              "      <th>Job Class</th>\n",
              "      <th>Pay Grade</th>\n",
              "      <th>Average Health Cost</th>\n",
              "      <th>Average Dental Cost</th>\n",
              "      <th>Average Basic Life</th>\n",
              "      <th>Average Benefit Cost</th>\n",
              "      <th>Benefits Plan</th>\n",
              "      <th>Job Class Link</th>\n",
              "    </tr>\n",
              "  </thead>\n",
              "  <tbody>\n",
              "    <tr>\n",
              "      <th>0</th>\n",
              "      <td>111391</td>\n",
              "      <td>2014</td>\n",
              "      <td>Water And Power (DWP)</td>\n",
              "      <td>0.0</td>\n",
              "      <td>Commercial Service Representative</td>\n",
              "      <td>Full Time</td>\n",
              "      <td>0</td>\n",
              "      <td>70386.48</td>\n",
              "      <td>16129.89</td>\n",
              "      <td>17829.78</td>\n",
              "      <td>17678.24</td>\n",
              "      <td>22946.57</td>\n",
              "      <td>14273.91</td>\n",
              "      <td>23.67%</td>\n",
              "      <td>74584.48</td>\n",
              "      <td>60310.57</td>\n",
              "      <td>0.00</td>\n",
              "      <td>0.00</td>\n",
              "      <td>0.00</td>\n",
              "      <td>0</td>\n",
              "      <td>369.12</td>\n",
              "      <td>13904.79</td>\n",
              "      <td>13904.79</td>\n",
              "      <td>0</td>\n",
              "      <td>0</td>\n",
              "      <td>98</td>\n",
              "      <td>1230</td>\n",
              "      <td>0</td>\n",
              "      <td>16842.08</td>\n",
              "      <td>1282.61</td>\n",
              "      <td>0.00</td>\n",
              "      <td>18124.69</td>\n",
              "      <td>DWP</td>\n",
              "      <td>http://per.lacity.org/perspecs/1230.pdf</td>\n",
              "    </tr>\n",
              "    <tr>\n",
              "      <th>1</th>\n",
              "      <td>31732</td>\n",
              "      <td>2013</td>\n",
              "      <td>Police (LAPD)</td>\n",
              "      <td>4301.0</td>\n",
              "      <td>Police Officer I</td>\n",
              "      <td>Full Time</td>\n",
              "      <td>$25.12</td>\n",
              "      <td>52450.56</td>\n",
              "      <td>11331.00</td>\n",
              "      <td>13859.93</td>\n",
              "      <td>11968.32</td>\n",
              "      <td>14048.20</td>\n",
              "      <td>1700.40</td>\n",
              "      <td>3.43%</td>\n",
              "      <td>51207.45</td>\n",
              "      <td>49507.05</td>\n",
              "      <td>1269.83</td>\n",
              "      <td>0.00</td>\n",
              "      <td>239.20</td>\n",
              "      <td>$0.00</td>\n",
              "      <td>11.13</td>\n",
              "      <td>180.24</td>\n",
              "      <td>1689.27</td>\n",
              "      <td>24.0</td>\n",
              "      <td>POLICE OFFICERS UNIT</td>\n",
              "      <td>70</td>\n",
              "      <td>2214</td>\n",
              "      <td>A</td>\n",
              "      <td>11651.40</td>\n",
              "      <td>898.08</td>\n",
              "      <td>191.04</td>\n",
              "      <td>12740.52</td>\n",
              "      <td>Police</td>\n",
              "      <td>http://per.lacity.org/perspecs/2214.pdf</td>\n",
              "    </tr>\n",
              "    <tr>\n",
              "      <th>2</th>\n",
              "      <td>27697</td>\n",
              "      <td>2013</td>\n",
              "      <td>Police (LAPD)</td>\n",
              "      <td>4301.0</td>\n",
              "      <td>Police Officer II</td>\n",
              "      <td>Full Time</td>\n",
              "      <td>$42.77</td>\n",
              "      <td>89303.76</td>\n",
              "      <td>20036.32</td>\n",
              "      <td>23479.20</td>\n",
              "      <td>21153.60</td>\n",
              "      <td>24360.49</td>\n",
              "      <td>4120.20</td>\n",
              "      <td>4.85%</td>\n",
              "      <td>89029.61</td>\n",
              "      <td>84909.41</td>\n",
              "      <td>1954.51</td>\n",
              "      <td>0.00</td>\n",
              "      <td>1519.00</td>\n",
              "      <td>$0.00</td>\n",
              "      <td>482.29</td>\n",
              "      <td>164.40</td>\n",
              "      <td>3637.91</td>\n",
              "      <td>24.0</td>\n",
              "      <td>POLICE OFFICERS UNIT</td>\n",
              "      <td>70</td>\n",
              "      <td>2214</td>\n",
              "      <td>2</td>\n",
              "      <td>11651.40</td>\n",
              "      <td>898.08</td>\n",
              "      <td>191.04</td>\n",
              "      <td>12740.52</td>\n",
              "      <td>Police</td>\n",
              "      <td>http://per.lacity.org/perspecs/2214.pdf</td>\n",
              "    </tr>\n",
              "    <tr>\n",
              "      <th>3</th>\n",
              "      <td>14136</td>\n",
              "      <td>2013</td>\n",
              "      <td>Harbor (Port of LA)</td>\n",
              "      <td>3201.0</td>\n",
              "      <td>Senior Security Officer</td>\n",
              "      <td>Full Time</td>\n",
              "      <td>$28.75</td>\n",
              "      <td>60028.96</td>\n",
              "      <td>15793.88</td>\n",
              "      <td>18560.38</td>\n",
              "      <td>16471.18</td>\n",
              "      <td>21110.80</td>\n",
              "      <td>14275.44</td>\n",
              "      <td>24.76%</td>\n",
              "      <td>71936.24</td>\n",
              "      <td>57660.80</td>\n",
              "      <td>0.00</td>\n",
              "      <td>1585.72</td>\n",
              "      <td>935.00</td>\n",
              "      <td>$0.00</td>\n",
              "      <td>11504.72</td>\n",
              "      <td>250.00</td>\n",
              "      <td>2770.72</td>\n",
              "      <td>12.0</td>\n",
              "      <td>SUPV BLUE COLLAR</td>\n",
              "      <td>42</td>\n",
              "      <td>3184</td>\n",
              "      <td>0</td>\n",
              "      <td>10710.24</td>\n",
              "      <td>405.24</td>\n",
              "      <td>11.40</td>\n",
              "      <td>11126.88</td>\n",
              "      <td>City</td>\n",
              "      <td>http://per.lacity.org/perspecs/3184.pdf</td>\n",
              "    </tr>\n",
              "    <tr>\n",
              "      <th>4</th>\n",
              "      <td>91896</td>\n",
              "      <td>2014</td>\n",
              "      <td>Public Works - Sanitation</td>\n",
              "      <td>7024.0</td>\n",
              "      <td>Senior Clerk Typist</td>\n",
              "      <td>Full Time</td>\n",
              "      <td>$30.92</td>\n",
              "      <td>64553.13</td>\n",
              "      <td>14700.00</td>\n",
              "      <td>17313.10</td>\n",
              "      <td>15257.17</td>\n",
              "      <td>17313.10</td>\n",
              "      <td>5191.62</td>\n",
              "      <td>8.74%</td>\n",
              "      <td>64583.37</td>\n",
              "      <td>59391.75</td>\n",
              "      <td>0.00</td>\n",
              "      <td>4774.25</td>\n",
              "      <td>0.00</td>\n",
              "      <td>$0.00</td>\n",
              "      <td>417.37</td>\n",
              "      <td>0.00</td>\n",
              "      <td>4774.25</td>\n",
              "      <td>3.0</td>\n",
              "      <td>CLERICAL UNIT</td>\n",
              "      <td>82</td>\n",
              "      <td>1368</td>\n",
              "      <td>0</td>\n",
              "      <td>11000.40</td>\n",
              "      <td>409.68</td>\n",
              "      <td>11.40</td>\n",
              "      <td>11421.48</td>\n",
              "      <td>City</td>\n",
              "      <td>http://per.lacity.org/perspecs/1368.pdf</td>\n",
              "    </tr>\n",
              "  </tbody>\n",
              "</table>\n",
              "</div>\n",
              "      <button class=\"colab-df-convert\" onclick=\"convertToInteractive('df-77a51e90-1b6b-4af1-a63d-1f437a0afd62')\"\n",
              "              title=\"Convert this dataframe to an interactive table.\"\n",
              "              style=\"display:none;\">\n",
              "        \n",
              "  <svg xmlns=\"http://www.w3.org/2000/svg\" height=\"24px\"viewBox=\"0 0 24 24\"\n",
              "       width=\"24px\">\n",
              "    <path d=\"M0 0h24v24H0V0z\" fill=\"none\"/>\n",
              "    <path d=\"M18.56 5.44l.94 2.06.94-2.06 2.06-.94-2.06-.94-.94-2.06-.94 2.06-2.06.94zm-11 1L8.5 8.5l.94-2.06 2.06-.94-2.06-.94L8.5 2.5l-.94 2.06-2.06.94zm10 10l.94 2.06.94-2.06 2.06-.94-2.06-.94-.94-2.06-.94 2.06-2.06.94z\"/><path d=\"M17.41 7.96l-1.37-1.37c-.4-.4-.92-.59-1.43-.59-.52 0-1.04.2-1.43.59L10.3 9.45l-7.72 7.72c-.78.78-.78 2.05 0 2.83L4 21.41c.39.39.9.59 1.41.59.51 0 1.02-.2 1.41-.59l7.78-7.78 2.81-2.81c.8-.78.8-2.07 0-2.86zM5.41 20L4 18.59l7.72-7.72 1.47 1.35L5.41 20z\"/>\n",
              "  </svg>\n",
              "      </button>\n",
              "      \n",
              "  <style>\n",
              "    .colab-df-container {\n",
              "      display:flex;\n",
              "      flex-wrap:wrap;\n",
              "      gap: 12px;\n",
              "    }\n",
              "\n",
              "    .colab-df-convert {\n",
              "      background-color: #E8F0FE;\n",
              "      border: none;\n",
              "      border-radius: 50%;\n",
              "      cursor: pointer;\n",
              "      display: none;\n",
              "      fill: #1967D2;\n",
              "      height: 32px;\n",
              "      padding: 0 0 0 0;\n",
              "      width: 32px;\n",
              "    }\n",
              "\n",
              "    .colab-df-convert:hover {\n",
              "      background-color: #E2EBFA;\n",
              "      box-shadow: 0px 1px 2px rgba(60, 64, 67, 0.3), 0px 1px 3px 1px rgba(60, 64, 67, 0.15);\n",
              "      fill: #174EA6;\n",
              "    }\n",
              "\n",
              "    [theme=dark] .colab-df-convert {\n",
              "      background-color: #3B4455;\n",
              "      fill: #D2E3FC;\n",
              "    }\n",
              "\n",
              "    [theme=dark] .colab-df-convert:hover {\n",
              "      background-color: #434B5C;\n",
              "      box-shadow: 0px 1px 3px 1px rgba(0, 0, 0, 0.15);\n",
              "      filter: drop-shadow(0px 1px 2px rgba(0, 0, 0, 0.3));\n",
              "      fill: #FFFFFF;\n",
              "    }\n",
              "  </style>\n",
              "\n",
              "      <script>\n",
              "        const buttonEl =\n",
              "          document.querySelector('#df-77a51e90-1b6b-4af1-a63d-1f437a0afd62 button.colab-df-convert');\n",
              "        buttonEl.style.display =\n",
              "          google.colab.kernel.accessAllowed ? 'block' : 'none';\n",
              "\n",
              "        async function convertToInteractive(key) {\n",
              "          const element = document.querySelector('#df-77a51e90-1b6b-4af1-a63d-1f437a0afd62');\n",
              "          const dataTable =\n",
              "            await google.colab.kernel.invokeFunction('convertToInteractive',\n",
              "                                                     [key], {});\n",
              "          if (!dataTable) return;\n",
              "\n",
              "          const docLinkHtml = 'Like what you see? Visit the ' +\n",
              "            '<a target=\"_blank\" href=https://colab.research.google.com/notebooks/data_table.ipynb>data table notebook</a>'\n",
              "            + ' to learn more about interactive tables.';\n",
              "          element.innerHTML = '';\n",
              "          dataTable['output_type'] = 'display_data';\n",
              "          await google.colab.output.renderOutput(dataTable, element);\n",
              "          const docLink = document.createElement('div');\n",
              "          docLink.innerHTML = docLinkHtml;\n",
              "          element.appendChild(docLink);\n",
              "        }\n",
              "      </script>\n",
              "    </div>\n",
              "  </div>\n",
              "  "
            ]
          },
          "metadata": {},
          "execution_count": 14
        }
      ]
    },
    {
      "cell_type": "code",
      "source": [
        "data = data[data['Projected Annual Salary']!=0]"
      ],
      "metadata": {
        "id": "KOTvJn1eXgiM"
      },
      "execution_count": 15,
      "outputs": []
    },
    {
      "cell_type": "code",
      "source": [
        "data = data[data['Base Pay']!=0]"
      ],
      "metadata": {
        "id": "cyULRAEvX-pM"
      },
      "execution_count": 16,
      "outputs": []
    },
    {
      "cell_type": "code",
      "source": [
        "data['Base Pay'] = pd.to_numeric(data['Base Pay'], downcast='float')\n",
        "data['Projected Annual Salary'] = pd.to_numeric(data['Projected Annual Salary'], downcast='float')\n",
        "data['Average Benefit Cost'] = pd.to_numeric(data['Average Benefit Cost'], downcast = 'float')"
      ],
      "metadata": {
        "id": "nXp0dfUpYCwH"
      },
      "execution_count": 68,
      "outputs": []
    },
    {
      "cell_type": "code",
      "source": [
        "sns.distplot(data['Projected Annual Salary'], color='darkgreen')"
      ],
      "metadata": {
        "colab": {
          "base_uri": "https://localhost:8080/",
          "height": 362
        },
        "id": "qwCtRf-QYD6R",
        "outputId": "b58d5686-ecca-4ddb-ae55-25516418d908"
      },
      "execution_count": 18,
      "outputs": [
        {
          "output_type": "stream",
          "name": "stderr",
          "text": [
            "/usr/local/lib/python3.7/dist-packages/seaborn/distributions.py:2619: FutureWarning: `distplot` is a deprecated function and will be removed in a future version. Please adapt your code to use either `displot` (a figure-level function with similar flexibility) or `histplot` (an axes-level function for histograms).\n",
            "  warnings.warn(msg, FutureWarning)\n"
          ]
        },
        {
          "output_type": "execute_result",
          "data": {
            "text/plain": [
              "<matplotlib.axes._subplots.AxesSubplot at 0x7f10e54bbb10>"
            ]
          },
          "metadata": {},
          "execution_count": 18
        },
        {
          "output_type": "display_data",
          "data": {
            "text/plain": [
              "<Figure size 432x288 with 1 Axes>"
            ],
            "image/png": "[encoded data removed]"
          },
          "metadata": {}
        }
      ]
    },
    {
      "cell_type": "code",
      "source": [
        "data.Year.value_counts()"
      ],
      "metadata": {
        "colab": {
          "base_uri": "https://localhost:8080/"
        },
        "id": "n8lDU_NDYhMq",
        "outputId": "3cde8afa-7638-457b-d392-1a2c31786018"
      },
      "execution_count": 19,
      "outputs": [
        {
          "output_type": "execute_result",
          "data": {
            "text/plain": [
              "2016    110914\n",
              "2015     59767\n",
              "2013     57379\n",
              "2014     56948\n",
              "Name: Year, dtype: int64"
            ]
          },
          "metadata": {},
          "execution_count": 19
        }
      ]
    },
    {
      "cell_type": "code",
      "source": [
        "pay_2013 = data[data.Year==2013]\n",
        "pay_2014 = data[data.Year==2014]\n",
        "pay_2015 = data[data.Year==2015]\n",
        "pay_2016 = data[data.Year==2016]"
      ],
      "metadata": {
        "id": "ZCAoCfgGYsR4"
      },
      "execution_count": 20,
      "outputs": []
    },
    {
      "cell_type": "code",
      "source": [],
      "metadata": {
        "id": "-NWf9_OgZKnD"
      },
      "execution_count": 20,
      "outputs": []
    },
    {
      "cell_type": "markdown",
      "source": [
        "LET'S CONDUCT A HYPOTHESIS TEST ON WHETHER THE SALARY INCREASES FROM 2015 TO 2016"
      ],
      "metadata": {
        "id": "QxA2HKkZbaAk"
      }
    },
    {
      "cell_type": "code",
      "source": [
        "mu1 = pay_2015['Projected Annual Salary'].mean()\n",
        "mu2 = pay_2016['Projected Annual Salary'].mean()\n",
        "std = statistics.stdev(pay_2015['Projected Annual Salary'])\n",
        "pop_std_16 = statistics.stdev(pay_2016['Projected Annual Salary'])"
      ],
      "metadata": {
        "id": "8wzmOYI0h5hO"
      },
      "execution_count": 21,
      "outputs": []
    },
    {
      "cell_type": "markdown",
      "source": [
        "Ho: There was no increase in the annual salary from 2015 to 2016\n",
        "Ha: There was an increase\n",
        "Confidence level = 95%"
      ],
      "metadata": {
        "id": "ujP9N3yyjqt2"
      }
    },
    {
      "cell_type": "code",
      "source": [
        "pay_2016_samp = pay_2016.sample(frac=0.10)\n",
        "x = pay_2016_samp['Projected Annual Salary'].mean()\n",
        "N = len(pay_2016_samp)"
      ],
      "metadata": {
        "id": "2d9_0qOfbiAp"
      },
      "execution_count": 22,
      "outputs": []
    },
    {
      "cell_type": "code",
      "source": [
        "z_score=(x-mu1)/(std/math.sqrt(N))"
      ],
      "metadata": {
        "id": "MOdSWVaRc7zi"
      },
      "execution_count": 24,
      "outputs": []
    },
    {
      "cell_type": "code",
      "source": [
        "z_score"
      ],
      "metadata": {
        "colab": {
          "base_uri": "https://localhost:8080/"
        },
        "id": "_5YLQIrteCNo",
        "outputId": "d0ae4ba8-de6c-43bc-a189-e2139e35ad3b"
      },
      "execution_count": 25,
      "outputs": [
        {
          "output_type": "execute_result",
          "data": {
            "text/plain": [
              "7.101196609780447"
            ]
          },
          "metadata": {},
          "execution_count": 25
        }
      ]
    },
    {
      "cell_type": "code",
      "source": [
        "stats.norm.sf(z_score)"
      ],
      "metadata": {
        "colab": {
          "base_uri": "https://localhost:8080/"
        },
        "id": "b8prk5IEsWPU",
        "outputId": "8813e0c0-1c28-4d65-e17c-f8dcd2f0668d"
      },
      "execution_count": 26,
      "outputs": [
        {
          "output_type": "execute_result",
          "data": {
            "text/plain": [
              "6.18406375316085e-13"
            ]
          },
          "metadata": {},
          "execution_count": 26
        }
      ]
    },
    {
      "cell_type": "code",
      "source": [
        "stats.norm.ppf(0.95)"
      ],
      "metadata": {
        "colab": {
          "base_uri": "https://localhost:8080/"
        },
        "id": "6p--VAqQtuhd",
        "outputId": "4f4c351d-4663-4820-b8d4-7493b6198269"
      },
      "execution_count": 27,
      "outputs": [
        {
          "output_type": "execute_result",
          "data": {
            "text/plain": [
              "1.6448536269514722"
            ]
          },
          "metadata": {},
          "execution_count": 27
        }
      ]
    },
    {
      "cell_type": "markdown",
      "source": [
        "Since z-score lies in the acceptance curve and p-value is << significance level, we reject null hypothesis and accept the alternative hypothesis, i.e., there was an increase in the Annual Salary from 2015 to 2016"
      ],
      "metadata": {
        "id": "xW0i3xVXwP7Y"
      }
    },
    {
      "cell_type": "code",
      "source": [
        "mu1"
      ],
      "metadata": {
        "colab": {
          "base_uri": "https://localhost:8080/"
        },
        "id": "fxNvfizIyjPd",
        "outputId": "1170172f-f926-4e2a-ebb9-362e379718ce"
      },
      "execution_count": 28,
      "outputs": [
        {
          "output_type": "execute_result",
          "data": {
            "text/plain": [
              "79089.19"
            ]
          },
          "metadata": {},
          "execution_count": 28
        }
      ]
    },
    {
      "cell_type": "code",
      "source": [
        "#Ho: mu2<=mu1\n",
        "#Ha: mu2>mu1\n",
        "p = stats.ttest_1samp(pay_2016['Projected Annual Salary'],mu1)[1]"
      ],
      "metadata": {
        "id": "gjZKC1Klv6X4"
      },
      "execution_count": 29,
      "outputs": []
    },
    {
      "cell_type": "code",
      "source": [
        "p/2"
      ],
      "metadata": {
        "colab": {
          "base_uri": "https://localhost:8080/"
        },
        "id": "vsZbmVcTywqw",
        "outputId": "3191351e-08bb-4ffd-aad7-17a597bc35f5"
      },
      "execution_count": 30,
      "outputs": [
        {
          "output_type": "execute_result",
          "data": {
            "text/plain": [
              "4.029887626042527e-114"
            ]
          },
          "metadata": {},
          "execution_count": 30
        }
      ]
    },
    {
      "cell_type": "markdown",
      "source": [
        "Since p-value is much less than significance level, hence we accept alternative hypothesis, i.e., mu2>mu1\n"
      ],
      "metadata": {
        "id": "sa2jDVsxy1rw"
      }
    },
    {
      "cell_type": "markdown",
      "source": [
        "Using student t-distribution to find whether there is an increase in average salary from the year 2013 to 2014\n",
        "\n",
        "Ho: There is no increase\n",
        "Ha: There is an increase"
      ],
      "metadata": {
        "id": "Q0p3xMoP0-ni"
      }
    },
    {
      "cell_type": "code",
      "source": [
        "x=pay_2013['Projected Annual Salary'].mean()\n",
        "mu = pay_2014['Projected Annual Salary'].mean()\n",
        "pay_2014_samp = pay_2014.sample(frac=0.00062)\n",
        "n = len(pay_2014_samp)\n",
        "s = statistics.stdev(pay_2014_samp['Projected Annual Salary'])"
      ],
      "metadata": {
        "id": "1Ho4V52cyx-9"
      },
      "execution_count": 31,
      "outputs": []
    },
    {
      "cell_type": "code",
      "source": [
        "t_score = (x-mu)/(s/math.sqrt(n))"
      ],
      "metadata": {
        "id": "8ddFHwIr1zMJ"
      },
      "execution_count": 32,
      "outputs": []
    },
    {
      "cell_type": "code",
      "source": [
        "t_score"
      ],
      "metadata": {
        "colab": {
          "base_uri": "https://localhost:8080/"
        },
        "id": "JdWOiYGG2cht",
        "outputId": "9c693abb-3d81-4b97-89d2-1d22043aeb63"
      },
      "execution_count": 33,
      "outputs": [
        {
          "output_type": "execute_result",
          "data": {
            "text/plain": [
              "-0.39174560240108314"
            ]
          },
          "metadata": {},
          "execution_count": 33
        }
      ]
    },
    {
      "cell_type": "code",
      "source": [
        "stats.t.sf(abs(t_score),df=n-1)"
      ],
      "metadata": {
        "colab": {
          "base_uri": "https://localhost:8080/"
        },
        "id": "HV6JUqrs2dWq",
        "outputId": "6fcb5ab8-2f16-4f58-9b63-96cc63af224e"
      },
      "execution_count": 34,
      "outputs": [
        {
          "output_type": "execute_result",
          "data": {
            "text/plain": [
              "0.34884543153227027"
            ]
          },
          "metadata": {},
          "execution_count": 34
        }
      ]
    },
    {
      "cell_type": "markdown",
      "source": [
        "The p-value is greater than 0.05.\n",
        "\n",
        "t-critical for confidence level 95% = 1.311\n",
        "t_score < t_critical, i.e., we accept the null hypothesis\n",
        "\n",
        "Conclusion: There was no increase\n"
      ],
      "metadata": {
        "id": "HGGlEhBv38kL"
      }
    },
    {
      "cell_type": "markdown",
      "source": [
        "ANOVA TEST\n",
        "Ho: The mean of base pay in 2014=2015=2016\n",
        "Ha: At least one mean is different"
      ],
      "metadata": {
        "id": "RWYAe1hTS7-L"
      }
    },
    {
      "cell_type": "code",
      "source": [
        "samp_1 = pay_2014['Base Pay']\n",
        "samp_2 = pay_2015['Base Pay']\n",
        "samp_3 = pay_2016['Base Pay']"
      ],
      "metadata": {
        "id": "25tSC0BX2vjR"
      },
      "execution_count": 36,
      "outputs": []
    },
    {
      "cell_type": "code",
      "source": [
        "stats.f_oneway(samp_1, samp_2, samp_3)"
      ],
      "metadata": {
        "id": "mdNIuwZ85Hd6",
        "colab": {
          "base_uri": "https://localhost:8080/"
        },
        "outputId": "f55412da-14d6-4c22-98bf-04e9fe1806f7"
      },
      "execution_count": 67,
      "outputs": [
        {
          "output_type": "execute_result",
          "data": {
            "text/plain": [
              "F_onewayResult(statistic=43817.45252729521, pvalue=0.0)"
            ]
          },
          "metadata": {},
          "execution_count": 67
        }
      ]
    },
    {
      "cell_type": "markdown",
      "source": [
        "Since p-value is less than the error window of 0.05, we reject null hypothesis. \n",
        "\n",
        "This means that at least one of the mean is different."
      ],
      "metadata": {
        "id": "Gs-ht0oecaLR"
      }
    },
    {
      "cell_type": "markdown",
      "source": [
        "Conducting Linear Regression with dependent variable as 'Average Benefit Cost' and independent variables as Q1,Q2,Q3,Q4 Payments and Projected Annual Salary"
      ],
      "metadata": {
        "id": "Rwovis-wdCf0"
      }
    },
    {
      "cell_type": "code",
      "source": [
        "x = data[['Projected Annual Salary', 'Q1 Payments', 'Q2 Payments', 'Q3 Payments', 'Q4 Payments']]\n",
        "y = data['Average Benefit Cost']"
      ],
      "metadata": {
        "id": "IzAdaWp55KkT"
      },
      "execution_count": 42,
      "outputs": []
    },
    {
      "cell_type": "code",
      "source": [
        "X_train, X_test, y_train, y_test = train_test_split(x, y, test_size=0.2, random_state = 42)"
      ],
      "metadata": {
        "id": "4iB_vZ0xc2n0"
      },
      "execution_count": 58,
      "outputs": []
    },
    {
      "cell_type": "code",
      "source": [
        "model = LinearRegression()"
      ],
      "metadata": {
        "id": "GJOxpK5dfWvh"
      },
      "execution_count": 59,
      "outputs": []
    },
    {
      "cell_type": "code",
      "source": [
        "model.fit(X_train, y_train)"
      ],
      "metadata": {
        "colab": {
          "base_uri": "https://localhost:8080/"
        },
        "id": "FWL0Bclofexg",
        "outputId": "b8e26b1b-c45a-4460-9d0e-742130cd0a40"
      },
      "execution_count": 60,
      "outputs": [
        {
          "output_type": "execute_result",
          "data": {
            "text/plain": [
              "LinearRegression()"
            ]
          },
          "metadata": {},
          "execution_count": 60
        }
      ]
    },
    {
      "cell_type": "code",
      "source": [
        "y_pred = model.predict(X_test)"
      ],
      "metadata": {
        "id": "pS646btdfl16"
      },
      "execution_count": 63,
      "outputs": []
    },
    {
      "cell_type": "code",
      "source": [
        "pd.DataFrame(model.coef_, x.columns, columns = ['Coefficient'])"
      ],
      "metadata": {
        "colab": {
          "base_uri": "https://localhost:8080/",
          "height": 206
        },
        "id": "pkUyA6o2fsb4",
        "outputId": "431545e6-303c-45fa-990a-d596512adb76"
      },
      "execution_count": 64,
      "outputs": [
        {
          "output_type": "execute_result",
          "data": {
            "text/plain": [
              "                         Coefficient\n",
              "Projected Annual Salary     0.032777\n",
              "Q1 Payments                 0.179892\n",
              "Q2 Payments                 0.015858\n",
              "Q3 Payments                -0.012659\n",
              "Q4 Payments                 0.031796"
            ],
            "text/html": [
              "\n",
              "  <div id=\"df-57278e54-b6a2-4871-8c3b-052f40e18470\">\n",
              "    <div class=\"colab-df-container\">\n",
              "      <div>\n",
              "<style scoped>\n",
              "    .dataframe tbody tr th:only-of-type {\n",
              "        vertical-align: middle;\n",
              "    }\n",
              "\n",
              "    .dataframe tbody tr th {\n",
              "        vertical-align: top;\n",
              "    }\n",
              "\n",
              "    .dataframe thead th {\n",
              "        text-align: right;\n",
              "    }\n",
              "</style>\n",
              "<table border=\"1\" class=\"dataframe\">\n",
              "  <thead>\n",
              "    <tr style=\"text-align: right;\">\n",
              "      <th></th>\n",
              "      <th>Coefficient</th>\n",
              "    </tr>\n",
              "  </thead>\n",
              "  <tbody>\n",
              "    <tr>\n",
              "      <th>Projected Annual Salary</th>\n",
              "      <td>0.032777</td>\n",
              "    </tr>\n",
              "    <tr>\n",
              "      <th>Q1 Payments</th>\n",
              "      <td>0.179892</td>\n",
              "    </tr>\n",
              "    <tr>\n",
              "      <th>Q2 Payments</th>\n",
              "      <td>0.015858</td>\n",
              "    </tr>\n",
              "    <tr>\n",
              "      <th>Q3 Payments</th>\n",
              "      <td>-0.012659</td>\n",
              "    </tr>\n",
              "    <tr>\n",
              "      <th>Q4 Payments</th>\n",
              "      <td>0.031796</td>\n",
              "    </tr>\n",
              "  </tbody>\n",
              "</table>\n",
              "</div>\n",
              "      <button class=\"colab-df-convert\" onclick=\"convertToInteractive('df-57278e54-b6a2-4871-8c3b-052f40e18470')\"\n",
              "              title=\"Convert this dataframe to an interactive table.\"\n",
              "              style=\"display:none;\">\n",
              "        \n",
              "  <svg xmlns=\"http://www.w3.org/2000/svg\" height=\"24px\"viewBox=\"0 0 24 24\"\n",
              "       width=\"24px\">\n",
              "    <path d=\"M0 0h24v24H0V0z\" fill=\"none\"/>\n",
              "    <path d=\"M18.56 5.44l.94 2.06.94-2.06 2.06-.94-2.06-.94-.94-2.06-.94 2.06-2.06.94zm-11 1L8.5 8.5l.94-2.06 2.06-.94-2.06-.94L8.5 2.5l-.94 2.06-2.06.94zm10 10l.94 2.06.94-2.06 2.06-.94-2.06-.94-.94-2.06-.94 2.06-2.06.94z\"/><path d=\"M17.41 7.96l-1.37-1.37c-.4-.4-.92-.59-1.43-.59-.52 0-1.04.2-1.43.59L10.3 9.45l-7.72 7.72c-.78.78-.78 2.05 0 2.83L4 21.41c.39.39.9.59 1.41.59.51 0 1.02-.2 1.41-.59l7.78-7.78 2.81-2.81c.8-.78.8-2.07 0-2.86zM5.41 20L4 18.59l7.72-7.72 1.47 1.35L5.41 20z\"/>\n",
              "  </svg>\n",
              "      </button>\n",
              "      \n",
              "  <style>\n",
              "    .colab-df-container {\n",
              "      display:flex;\n",
              "      flex-wrap:wrap;\n",
              "      gap: 12px;\n",
              "    }\n",
              "\n",
              "    .colab-df-convert {\n",
              "      background-color: #E8F0FE;\n",
              "      border: none;\n",
              "      border-radius: 50%;\n",
              "      cursor: pointer;\n",
              "      display: none;\n",
              "      fill: #1967D2;\n",
              "      height: 32px;\n",
              "      padding: 0 0 0 0;\n",
              "      width: 32px;\n",
              "    }\n",
              "\n",
              "    .colab-df-convert:hover {\n",
              "      background-color: #E2EBFA;\n",
              "      box-shadow: 0px 1px 2px rgba(60, 64, 67, 0.3), 0px 1px 3px 1px rgba(60, 64, 67, 0.15);\n",
              "      fill: #174EA6;\n",
              "    }\n",
              "\n",
              "    [theme=dark] .colab-df-convert {\n",
              "      background-color: #3B4455;\n",
              "      fill: #D2E3FC;\n",
              "    }\n",
              "\n",
              "    [theme=dark] .colab-df-convert:hover {\n",
              "      background-color: #434B5C;\n",
              "      box-shadow: 0px 1px 3px 1px rgba(0, 0, 0, 0.15);\n",
              "      filter: drop-shadow(0px 1px 2px rgba(0, 0, 0, 0.3));\n",
              "      fill: #FFFFFF;\n",
              "    }\n",
              "  </style>\n",
              "\n",
              "      <script>\n",
              "        const buttonEl =\n",
              "          document.querySelector('#df-57278e54-b6a2-4871-8c3b-052f40e18470 button.colab-df-convert');\n",
              "        buttonEl.style.display =\n",
              "          google.colab.kernel.accessAllowed ? 'block' : 'none';\n",
              "\n",
              "        async function convertToInteractive(key) {\n",
              "          const element = document.querySelector('#df-57278e54-b6a2-4871-8c3b-052f40e18470');\n",
              "          const dataTable =\n",
              "            await google.colab.kernel.invokeFunction('convertToInteractive',\n",
              "                                                     [key], {});\n",
              "          if (!dataTable) return;\n",
              "\n",
              "          const docLinkHtml = 'Like what you see? Visit the ' +\n",
              "            '<a target=\"_blank\" href=https://colab.research.google.com/notebooks/data_table.ipynb>data table notebook</a>'\n",
              "            + ' to learn more about interactive tables.';\n",
              "          element.innerHTML = '';\n",
              "          dataTable['output_type'] = 'display_data';\n",
              "          await google.colab.output.renderOutput(dataTable, element);\n",
              "          const docLink = document.createElement('div');\n",
              "          docLink.innerHTML = docLinkHtml;\n",
              "          element.appendChild(docLink);\n",
              "        }\n",
              "      </script>\n",
              "    </div>\n",
              "  </div>\n",
              "  "
            ]
          },
          "metadata": {},
          "execution_count": 64
        }
      ]
    },
    {
      "cell_type": "code",
      "source": [
        "accuracy = pd.DataFrame({'Actual':y_test,'Predicted':y_pred})"
      ],
      "metadata": {
        "colab": {
          "base_uri": "https://localhost:8080/",
          "height": 424
        },
        "id": "RelxkE-Nfweu",
        "outputId": "b2b18997-2999-423e-b20a-41486153f47d"
      },
      "execution_count": 70,
      "outputs": [
        {
          "output_type": "execute_result",
          "data": {
            "text/plain": [
              "          Actual     Predicted\n",
              "920     17111.02   6730.432823\n",
              "38188   11126.88  12019.569991\n",
              "247604  14758.83  16379.956122\n",
              "15229   11126.88  11202.057666\n",
              "66952   13042.56  12400.044109\n",
              "...          ...           ...\n",
              "272455  11894.13  11268.147860\n",
              "85783   11435.16   8607.175483\n",
              "83288   11435.16  10765.935388\n",
              "215646      0.00   6177.045433\n",
              "71434   11126.88   8632.508021\n",
              "\n",
              "[57002 rows x 2 columns]"
            ],
            "text/html": [
              "\n",
              "  <div id=\"df-ff4a1bac-364e-41ce-ab23-81021aab0e8f\">\n",
              "    <div class=\"colab-df-container\">\n",
              "      <div>\n",
              "<style scoped>\n",
              "    .dataframe tbody tr th:only-of-type {\n",
              "        vertical-align: middle;\n",
              "    }\n",
              "\n",
              "    .dataframe tbody tr th {\n",
              "        vertical-align: top;\n",
              "    }\n",
              "\n",
              "    .dataframe thead th {\n",
              "        text-align: right;\n",
              "    }\n",
              "</style>\n",
              "<table border=\"1\" class=\"dataframe\">\n",
              "  <thead>\n",
              "    <tr style=\"text-align: right;\">\n",
              "      <th></th>\n",
              "      <th>Actual</th>\n",
              "      <th>Predicted</th>\n",
              "    </tr>\n",
              "  </thead>\n",
              "  <tbody>\n",
              "    <tr>\n",
              "      <th>920</th>\n",
              "      <td>17111.02</td>\n",
              "      <td>6730.432823</td>\n",
              "    </tr>\n",
              "    <tr>\n",
              "      <th>38188</th>\n",
              "      <td>11126.88</td>\n",
              "      <td>12019.569991</td>\n",
              "    </tr>\n",
              "    <tr>\n",
              "      <th>247604</th>\n",
              "      <td>14758.83</td>\n",
              "      <td>16379.956122</td>\n",
              "    </tr>\n",
              "    <tr>\n",
              "      <th>15229</th>\n",
              "      <td>11126.88</td>\n",
              "      <td>11202.057666</td>\n",
              "    </tr>\n",
              "    <tr>\n",
              "      <th>66952</th>\n",
              "      <td>13042.56</td>\n",
              "      <td>12400.044109</td>\n",
              "    </tr>\n",
              "    <tr>\n",
              "      <th>...</th>\n",
              "      <td>...</td>\n",
              "      <td>...</td>\n",
              "    </tr>\n",
              "    <tr>\n",
              "      <th>272455</th>\n",
              "      <td>11894.13</td>\n",
              "      <td>11268.147860</td>\n",
              "    </tr>\n",
              "    <tr>\n",
              "      <th>85783</th>\n",
              "      <td>11435.16</td>\n",
              "      <td>8607.175483</td>\n",
              "    </tr>\n",
              "    <tr>\n",
              "      <th>83288</th>\n",
              "      <td>11435.16</td>\n",
              "      <td>10765.935388</td>\n",
              "    </tr>\n",
              "    <tr>\n",
              "      <th>215646</th>\n",
              "      <td>0.00</td>\n",
              "      <td>6177.045433</td>\n",
              "    </tr>\n",
              "    <tr>\n",
              "      <th>71434</th>\n",
              "      <td>11126.88</td>\n",
              "      <td>8632.508021</td>\n",
              "    </tr>\n",
              "  </tbody>\n",
              "</table>\n",
              "<p>57002 rows × 2 columns</p>\n",
              "</div>\n",
              "      <button class=\"colab-df-convert\" onclick=\"convertToInteractive('df-ff4a1bac-364e-41ce-ab23-81021aab0e8f')\"\n",
              "              title=\"Convert this dataframe to an interactive table.\"\n",
              "              style=\"display:none;\">\n",
              "        \n",
              "  <svg xmlns=\"http://www.w3.org/2000/svg\" height=\"24px\"viewBox=\"0 0 24 24\"\n",
              "       width=\"24px\">\n",
              "    <path d=\"M0 0h24v24H0V0z\" fill=\"none\"/>\n",
              "    <path d=\"M18.56 5.44l.94 2.06.94-2.06 2.06-.94-2.06-.94-.94-2.06-.94 2.06-2.06.94zm-11 1L8.5 8.5l.94-2.06 2.06-.94-2.06-.94L8.5 2.5l-.94 2.06-2.06.94zm10 10l.94 2.06.94-2.06 2.06-.94-2.06-.94-.94-2.06-.94 2.06-2.06.94z\"/><path d=\"M17.41 7.96l-1.37-1.37c-.4-.4-.92-.59-1.43-.59-.52 0-1.04.2-1.43.59L10.3 9.45l-7.72 7.72c-.78.78-.78 2.05 0 2.83L4 21.41c.39.39.9.59 1.41.59.51 0 1.02-.2 1.41-.59l7.78-7.78 2.81-2.81c.8-.78.8-2.07 0-2.86zM5.41 20L4 18.59l7.72-7.72 1.47 1.35L5.41 20z\"/>\n",
              "  </svg>\n",
              "      </button>\n",
              "      \n",
              "  <style>\n",
              "    .colab-df-container {\n",
              "      display:flex;\n",
              "      flex-wrap:wrap;\n",
              "      gap: 12px;\n",
              "    }\n",
              "\n",
              "    .colab-df-convert {\n",
              "      background-color: #E8F0FE;\n",
              "      border: none;\n",
              "      border-radius: 50%;\n",
              "      cursor: pointer;\n",
              "      display: none;\n",
              "      fill: #1967D2;\n",
              "      height: 32px;\n",
              "      padding: 0 0 0 0;\n",
              "      width: 32px;\n",
              "    }\n",
              "\n",
              "    .colab-df-convert:hover {\n",
              "      background-color: #E2EBFA;\n",
              "      box-shadow: 0px 1px 2px rgba(60, 64, 67, 0.3), 0px 1px 3px 1px rgba(60, 64, 67, 0.15);\n",
              "      fill: #174EA6;\n",
              "    }\n",
              "\n",
              "    [theme=dark] .colab-df-convert {\n",
              "      background-color: #3B4455;\n",
              "      fill: #D2E3FC;\n",
              "    }\n",
              "\n",
              "    [theme=dark] .colab-df-convert:hover {\n",
              "      background-color: #434B5C;\n",
              "      box-shadow: 0px 1px 3px 1px rgba(0, 0, 0, 0.15);\n",
              "      filter: drop-shadow(0px 1px 2px rgba(0, 0, 0, 0.3));\n",
              "      fill: #FFFFFF;\n",
              "    }\n",
              "  </style>\n",
              "\n",
              "      <script>\n",
              "        const buttonEl =\n",
              "          document.querySelector('#df-ff4a1bac-364e-41ce-ab23-81021aab0e8f button.colab-df-convert');\n",
              "        buttonEl.style.display =\n",
              "          google.colab.kernel.accessAllowed ? 'block' : 'none';\n",
              "\n",
              "        async function convertToInteractive(key) {\n",
              "          const element = document.querySelector('#df-ff4a1bac-364e-41ce-ab23-81021aab0e8f');\n",
              "          const dataTable =\n",
              "            await google.colab.kernel.invokeFunction('convertToInteractive',\n",
              "                                                     [key], {});\n",
              "          if (!dataTable) return;\n",
              "\n",
              "          const docLinkHtml = 'Like what you see? Visit the ' +\n",
              "            '<a target=\"_blank\" href=https://colab.research.google.com/notebooks/data_table.ipynb>data table notebook</a>'\n",
              "            + ' to learn more about interactive tables.';\n",
              "          element.innerHTML = '';\n",
              "          dataTable['output_type'] = 'display_data';\n",
              "          await google.colab.output.renderOutput(dataTable, element);\n",
              "          const docLink = document.createElement('div');\n",
              "          docLink.innerHTML = docLinkHtml;\n",
              "          element.appendChild(docLink);\n",
              "        }\n",
              "      </script>\n",
              "    </div>\n",
              "  </div>\n",
              "  "
            ]
          },
          "metadata": {},
          "execution_count": 70
        }
      ]
    },
    {
      "cell_type": "code",
      "source": [
        "#EVALUATING MODEL ACCURACY THROUGH MEAN SQUARE ERROR\n",
        "#MSE = (Actual - Predicted)**2"
      ],
      "metadata": {
        "id": "g2hFaYMcgL5v"
      },
      "execution_count": 71,
      "outputs": []
    },
    {
      "cell_type": "code",
      "source": [
        "MSE = mean_squared_error(y_test, y_pred)\n",
        "MAE = mean_absolute_error(y_test, y_pred)\n",
        "print('Mean Absolute Error: {}\\nMean Square Error: {}'.format(round(MAE,2), round(MSE,2)))"
      ],
      "metadata": {
        "colab": {
          "base_uri": "https://localhost:8080/"
        },
        "id": "M3Y2gXuHjnam",
        "outputId": "da491078-38b2-4480-e42d-b3d7f1fd9496"
      },
      "execution_count": 81,
      "outputs": [
        {
          "output_type": "stream",
          "name": "stdout",
          "text": [
            "Mean Absolute Error: 3345.14\n",
            "Mean Square Error: 18640669.18\n"
          ]
        }
      ]
    },
    {
      "cell_type": "code",
      "source": [],
      "metadata": {
        "id": "t0bTTowBj4UA"
      },
      "execution_count": 77,
      "outputs": []
    },
    {
      "cell_type": "code",
      "source": [],
      "metadata": {
        "id": "6nUjga9blOl1"
      },
      "execution_count": null,
      "outputs": []
    }
  ]
}